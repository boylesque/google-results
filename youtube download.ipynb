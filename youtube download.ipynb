{
 "cells": [
  {
   "cell_type": "code",
   "execution_count": 41,
   "metadata": {},
   "outputs": [],
   "source": [
    "from pytube import YouTube\n",
    "from pytube.exceptions import VideoUnavailable\n",
    "from pathlib import Path\n",
    "import json"
   ]
  },
  {
   "cell_type": "code",
   "execution_count": null,
   "metadata": {},
   "outputs": [],
   "source": []
  },
  {
   "cell_type": "code",
   "execution_count": 2,
   "metadata": {},
   "outputs": [],
   "source": [
    "save_dir = './youtube-downloads/'\n",
    "\n",
    "videos = ['sj8mZTcnaZ8', 'LBwq_HP95HU', 'MCYKN8Kl20o', 'IazOL5uymTk', 'T2fgzmVWoXg', 'YYsjTMDK2ZY', 'OqMsxSFbRnQ']\n"
   ]
  },
  {
   "cell_type": "code",
   "execution_count": null,
   "metadata": {},
   "outputs": [],
   "source": []
  },
  {
   "cell_type": "code",
   "execution_count": 3,
   "metadata": {},
   "outputs": [],
   "source": [
    "if not Path(save_dir).exists(): Path(save_dir).mkdir(parents=True)"
   ]
  },
  {
   "cell_type": "code",
   "execution_count": 42,
   "metadata": {},
   "outputs": [
    {
     "name": "stdout",
     "output_type": "stream",
     "text": [
      "Unable to download video IazOL5uymTk.\n"
     ]
    }
   ],
   "source": [
    "for v in videos:\n",
    "    try:\n",
    "        \n",
    "        resulting_video_file = Path(f).parent / (v + \".mp4\")\n",
    "        resulting_info_file = Path(Path(f).parent / (v + \".json\"))\n",
    "        \n",
    "        if resulting_video_file.exists() and resulting_info_file.exists():\n",
    "            print('both exist')\n",
    "        else:\n",
    "            video = YouTube(f'https://www.youtube.com/watch?v={v}')\n",
    "            f = video.streams.filter(progressive=True, file_extension='mp4').order_by('resolution').desc().first().download('./youtube-downloads')\n",
    "            Path(f).rename(Path(f).parent / (v + \".mp4\"))\n",
    "\n",
    "            data = {\n",
    "                'downloader': 'pytube',\n",
    "                'views': video.views,\n",
    "                'description': video.vid_descr,\n",
    "                'vid_info': video.vid_info\n",
    "            }\n",
    "\n",
    "            resulting_info_file.write_text(json.dumps(data))\n",
    "        \n",
    "    except VideoUnavailable:\n",
    "        print(f\"Video {v} is unavailable.\")\n",
    "    except KeyError:\n",
    "        print(f\"Unable to download video {v}.\")"
   ]
  },
  {
   "cell_type": "code",
   "execution_count": null,
   "metadata": {},
   "outputs": [],
   "source": []
  },
  {
   "cell_type": "code",
   "execution_count": null,
   "metadata": {},
   "outputs": [],
   "source": []
  },
  {
   "cell_type": "code",
   "execution_count": 43,
   "metadata": {},
   "outputs": [],
   "source": [
    "import requests"
   ]
  },
  {
   "cell_type": "code",
   "execution_count": 44,
   "metadata": {},
   "outputs": [],
   "source": [
    "q = requests.get(\"https://www.youtube.com/get_video_info?video_id=T2fgzmVWoXg\")"
   ]
  },
  {
   "cell_type": "code",
   "execution_count": null,
   "metadata": {},
   "outputs": [],
   "source": [
    "q.text"
   ]
  },
  {
   "cell_type": "code",
   "execution_count": null,
   "metadata": {},
   "outputs": [],
   "source": []
  },
  {
   "cell_type": "code",
   "execution_count": null,
   "metadata": {},
   "outputs": [],
   "source": []
  }
 ],
 "metadata": {
  "kernelspec": {
   "display_name": "Python 3",
   "language": "python",
   "name": "python3"
  },
  "language_info": {
   "codemirror_mode": {
    "name": "ipython",
    "version": 3
   },
   "file_extension": ".py",
   "mimetype": "text/x-python",
   "name": "python",
   "nbconvert_exporter": "python",
   "pygments_lexer": "ipython3",
   "version": "3.7.6"
  }
 },
 "nbformat": 4,
 "nbformat_minor": 4
}
