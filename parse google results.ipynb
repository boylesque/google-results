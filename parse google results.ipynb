{
 "cells": [
  {
   "cell_type": "code",
   "execution_count": 2,
   "metadata": {},
   "outputs": [],
   "source": [
    "import os, re\n",
    "from pathlib import Path\n",
    "from pprint import pprint\n",
    "from bs4 import BeautifulSoup\n",
    "\n",
    "_excluded_files = [\".DS_Store\"]\n",
    "_excluded_urls = ['twitter.com', 'picdeer.org', 'pichorse.com', 'pinterest.com', 'pictame.com', 'flickr.com', 'groupon.com', 'ticketsales.com', 'sketchfab.com']"
   ]
  },
  {
   "cell_type": "code",
   "execution_count": 36,
   "metadata": {},
   "outputs": [],
   "source": [
    "search_terms = [\n",
    "    'boylesque nyc',\n",
    "    'boylesque \"new york\"',\n",
    "    'boylesque',\n",
    "    'boylesk',\n",
    "    '\"male dancers\" burlesque',\n",
    "    '\"male dancer\" burlesque',\n",
    "    '\"male dance\" burlesque'\n",
    "]\n",
    "\n",
    "month_year = \"september-2019\""
   ]
  },
  {
   "cell_type": "code",
   "execution_count": 37,
   "metadata": {},
   "outputs": [],
   "source": [
    "# Set up auto vars\n",
    "_, _collected = [], []"
   ]
  },
  {
   "cell_type": "code",
   "execution_count": null,
   "metadata": {},
   "outputs": [],
   "source": [
    "for s_term in search_terms:\n",
    "    for f in Path(month_year + \"/\" + s_term).glob(\"*\"):\n",
    "        if f.name not in _excluded_files:\n",
    "            contents = f.read_text().replace(\"\\n\",\" \")\n",
    "            g = re.search('(<body.*<\\/body>)', contents)\n",
    "            if g is not None:\n",
    "                body = g.groups()[0]\n",
    "                soup = BeautifulSoup(body, 'html.parser')\n",
    "                results = soup.findAll(\"div\", {\"class\": \"r\"})\n",
    "                for r in results:\n",
    "                    preview = r.find(\"div\", {\"class\": \"ellip\"}).text\n",
    "                    link = r.a['href']\n",
    "                    header = r.h3.text\n",
    "                    if (link not in _collected) and (link not in _excluded_urls):\n",
    "                        _.append({'header': header, 'link': link, 'preview': preview})\n",
    "                        _collected.append(link)\n",
    "            else:\n",
    "                print(f\"Error: Could not find any results in {f}\")"
   ]
  },
  {
   "cell_type": "code",
   "execution_count": 39,
   "metadata": {},
   "outputs": [
    {
     "name": "stdout",
     "output_type": "stream",
     "text": [
      "847\n",
      "[{'header': 'Reviews | Boylesque - Theatre Is Easy',\n",
      "  'link': 'http://www.theasy.com/Reviews/boylesque.php',\n",
      "  'preview': 'Reviews | Boylesque - Theatre Is Easy'},\n",
      " {'header': 'Matt Knife Presents: Homo Erectus Boylesque on the Beach ...',\n",
      "  'link': 'https://www.coneyisland.com/event/mattknife',\n",
      "  'preview': 'Matt Knife Presents: Homo Erectus Boylesque on the Beach ...'},\n",
      " {'header': 'New York Boylesque Festival - New York City Theater',\n",
      "  'link': 'https://www.newyorkcitytheatre.com/theaters/gramercytheater/new-york-boylesque-festival.php',\n",
      "  'preview': 'New York Boylesque Festival - New York City Theater'}]\n"
     ]
    }
   ],
   "source": [
    "print(len(_))\n",
    "pprint(_[:3])"
   ]
  },
  {
   "cell_type": "code",
   "execution_count": 40,
   "metadata": {},
   "outputs": [
    {
     "data": {
      "text/plain": [
       "[{'header': 'Company XIV - Boylesque Bullfight - YouTube',\n",
       "  'link': 'https://www.youtube.com/watch?v=OqMsxSFbRnQ',\n",
       "  'preview': 'Company XIV - Boylesque Bullfight - YouTube'},\n",
       " {'header': \"Burlesque and boylesque at Portland's 'Boyeurism' cabaret ...\",\n",
       "  'link': 'https://www.youtube.com/watch?v=sj8mZTcnaZ8',\n",
       "  'preview': \"Burlesque and boylesque at Portland's 'Boyeurism' cabaret ...\"},\n",
       " {'header': 'BOYLESQUE SHOW - CRISIS WHAT CRISIS - YouTube',\n",
       "  'link': 'https://www.youtube.com/watch?v=LBwq_HP95HU',\n",
       "  'preview': 'BOYLESQUE SHOW - CRISIS WHAT CRISIS - YouTube'},\n",
       " {'header': 'BOYLESK! featuring The Stage Door Johnnies - Male ...',\n",
       "  'link': 'https://www.youtube.com/watch?v=MCYKN8Kl20o',\n",
       "  'preview': 'BOYLESK! featuring The Stage Door Johnnies - Male ...'},\n",
       " {'header': 'Boylesk Noir - Holding On For A Hero (Boylesque) - YouTube',\n",
       "  'link': 'https://www.youtube.com/watch?v=IazOL5uymTk',\n",
       "  'preview': 'Boylesk Noir - Holding On For A Hero (Boylesque) - YouTube'},\n",
       " {'header': 'Sneak Peek: Sudbury Burlesque - YouTube',\n",
       "  'link': 'https://www.youtube.com/watch?v=T2fgzmVWoXg',\n",
       "  'preview': 'Sneak Peek: Sudbury Burlesque - YouTube'},\n",
       " {'header': \"Briefs Factory: Australia's all-male drag troupe - YouTube\",\n",
       "  'link': 'https://www.youtube.com/watch?v=YYsjTMDK2ZY',\n",
       "  'preview': \"Briefs Factory: Australia's all-male drag troupe - YouTube\"}]"
      ]
     },
     "execution_count": 40,
     "metadata": {},
     "output_type": "execute_result"
    }
   ],
   "source": [
    "yt_links = [x for x in _ if 'youtube' in x['link']]\n",
    "yt_links"
   ]
  },
  {
   "cell_type": "code",
   "execution_count": null,
   "metadata": {},
   "outputs": [],
   "source": []
  }
 ],
 "metadata": {
  "kernelspec": {
   "display_name": "Python 3",
   "language": "python",
   "name": "python3"
  },
  "language_info": {
   "codemirror_mode": {
    "name": "ipython",
    "version": 3
   },
   "file_extension": ".py",
   "mimetype": "text/x-python",
   "name": "python",
   "nbconvert_exporter": "python",
   "pygments_lexer": "ipython3",
   "version": "3.7.6"
  }
 },
 "nbformat": 4,
 "nbformat_minor": 4
}
